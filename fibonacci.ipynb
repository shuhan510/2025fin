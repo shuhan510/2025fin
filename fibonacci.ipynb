{
 "cells": [
  {
   "cell_type": "code",
   "execution_count": 7,
   "id": "cdbd747e",
   "metadata": {},
   "outputs": [
    {
     "name": "stdout",
     "output_type": "stream",
     "text": [
      "fibonacci數列(前 5 個數字):\n",
      "[1, 1, 2, 3, 5]\n",
      "前後兩數字的比值:\n",
      "[1.0, 0.5, 0.6667, 0.6]\n"
     ]
    }
   ],
   "source": [
    "# 定義函數\n",
    "def fibonacci(n):\n",
    "    # 初始化fibonacci數列\n",
    "    fib_seq = [1, 1] if n > 1 else [1]\n",
    "    \n",
    "    # 產生fibonacci數列\n",
    "    for i in range(2, n):\n",
    "        fib_seq.append(fib_seq[-1] + fib_seq[-2])\n",
    "    \n",
    "    # 計算前後兩數字的比值\n",
    "    ratios = [round(fib_seq[i - 1] / fib_seq[i], 4) for i in range(1, n)]\n",
    "    \n",
    "    # 輸出結果\n",
    "    print(\"fibonacci數列(前\",n,\"個數字):\")\n",
    "    print(fib_seq)\n",
    "    print(\"前後兩數字的比值:\")\n",
    "    print(ratios)\n",
    "\n",
    "# 呼叫函數\n",
    "fibonacci(5)"
   ]
  },
  {
   "cell_type": "code",
   "execution_count": null,
   "id": "cfba7584",
   "metadata": {},
   "outputs": [],
   "source": []
  }
 ],
 "metadata": {
  "kernelspec": {
   "display_name": "Python 3 (ipykernel)",
   "language": "python",
   "name": "python3"
  },
  "language_info": {
   "codemirror_mode": {
    "name": "ipython",
    "version": 3
   },
   "file_extension": ".py",
   "mimetype": "text/x-python",
   "name": "python",
   "nbconvert_exporter": "python",
   "pygments_lexer": "ipython3",
   "version": "3.11.4"
  }
 },
 "nbformat": 4,
 "nbformat_minor": 5
}
