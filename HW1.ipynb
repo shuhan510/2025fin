{
 "cells": [
  {
   "cell_type": "code",
   "execution_count": 3,
   "id": "bf1ad91e",
   "metadata": {},
   "outputs": [
    {
     "name": "stdout",
     "output_type": "stream",
     "text": [
      "同進位(八進位) 結果: 0o33\n",
      "十進位 結果: 27\n"
     ]
    }
   ],
   "source": [
    "#(1)【八進位】  11 +  11 + 11\n",
    "oct_1 = 0o11  \n",
    "oct_2 = 0o11\n",
    "oct_3 = 0o11\n",
    "\n",
    "oct_sum = oct_1 + oct_2 + oct_3\n",
    "\n",
    "print(\"同進位(八進位) 結果:\", oct(oct_sum))\n",
    "print(\"十進位 結果:\", oct_sum)"
   ]
  },
  {
   "cell_type": "code",
   "execution_count": 4,
   "id": "05d205eb",
   "metadata": {},
   "outputs": [
    {
     "name": "stdout",
     "output_type": "stream",
     "text": [
      "同進位(十六進位) 結果: 0x231\n",
      "十進位 結果: 561\n"
     ]
    }
   ],
   "source": [
    "#(2) 【16進位】 AA + BB + CC\n",
    "hex_1 = 0xAA\n",
    "hex_2 = 0xBB\n",
    "hex_3 = 0xCC\n",
    "\n",
    "hex_sum = hex_1 + hex_2 + hex_3\n",
    "\n",
    "print(\"同進位(十六進位) 結果:\", hex(hex_sum))\n",
    "print(\"十進位 結果:\", hex_sum)"
   ]
  },
  {
   "cell_type": "code",
   "execution_count": 6,
   "id": "a6779333",
   "metadata": {},
   "outputs": [
    {
     "name": "stdout",
     "output_type": "stream",
     "text": [
      "YF.download() has changed argument auto_adjust default to True\n"
     ]
    },
    {
     "name": "stderr",
     "output_type": "stream",
     "text": [
      "[*********************100%***********************]  1 of 1 completed\n",
      "[*********************100%***********************]  1 of 1 completed"
     ]
    },
    {
     "name": "stdout",
     "output_type": "stream",
     "text": [
      "鴻海股價：\n",
      "Price            Close        High         Low        Open     Volume\n",
      "Ticker         2317.TW     2317.TW     2317.TW     2317.TW    2317.TW\n",
      "Date                                                                 \n",
      "2020-01-02   73.664803   74.232701   73.259159   73.827057   20758722\n",
      "2020-01-03   74.313835   74.800606   73.664810   74.151580   37936877\n",
      "2020-01-06   73.421417   73.908188   73.096901   73.908188   26352522\n",
      "2020-01-07   72.285622   73.827067   71.636596   73.421424   42728140\n",
      "2020-01-08   70.176285   71.474342   70.176285   71.312087   56101121\n",
      "...                ...         ...         ...         ...        ...\n",
      "2025-04-01  152.000000  153.000000  148.000000  148.500000   59980318\n",
      "2025-04-02  153.500000  154.500000  152.000000  153.000000   38028390\n",
      "2025-04-07  138.500000  138.500000  138.500000  138.500000   26126364\n",
      "2025-04-08  125.000000  130.500000  125.000000  127.000000  301202019\n",
      "2025-04-09  112.500000  122.500000  112.500000  119.000000  365592747\n",
      "\n",
      "[1275 rows x 5 columns]\n",
      "\n",
      "宏碁股價：\n",
      "Price           Close       High        Low       Open    Volume\n",
      "Ticker        2353.TW    2353.TW    2353.TW    2353.TW   2353.TW\n",
      "Date                                                            \n",
      "2020-01-02  12.908957  13.017741  12.908957  12.981479   5383237\n",
      "2020-01-03  12.981480  13.054002  12.872697  12.981480   7256023\n",
      "2020-01-06  12.800175  12.945220  12.763914  12.908958   7615770\n",
      "2020-01-07  12.727652  12.908957  12.727652  12.800174   5708642\n",
      "2020-01-08  12.655129  12.727651  12.618867  12.691390   7981411\n",
      "...               ...        ...        ...        ...       ...\n",
      "2025-04-01  37.000000  37.000000  35.549999  35.549999   9826030\n",
      "2025-04-02  37.049999  37.099998  36.400002  36.650002   7295160\n",
      "2025-04-07  33.349998  33.349998  33.349998  33.349998   2753439\n",
      "2025-04-08  30.049999  30.950001  30.049999  30.049999  25529639\n",
      "2025-04-09  27.049999  28.900000  27.049999  27.350000  35497219\n",
      "\n",
      "[1275 rows x 5 columns]\n"
     ]
    },
    {
     "name": "stderr",
     "output_type": "stream",
     "text": [
      "\n"
     ]
    }
   ],
   "source": [
    "#(3) 利用yfinance 抓取 2020-01-01後，鴻海與宏碁的股價資訊\n",
    "import yfinance as yf\n",
    "\n",
    "foxconn = yf.download(\"2317.TW\", start=\"2020-01-01\")\n",
    "acer = yf.download(\"2353.TW\", start=\"2020-01-01\")\n",
    "\n",
    "print(\"鴻海股價：\")\n",
    "print(foxconn)\n",
    "\n",
    "print(\"\\n宏碁股價：\")\n",
    "print(acer)"
   ]
  },
  {
   "cell_type": "code",
   "execution_count": 9,
   "id": "78801dba",
   "metadata": {},
   "outputs": [
    {
     "name": "stdout",
     "output_type": "stream",
     "text": [
      "{'data': {'ids': None, 'features':      sepal length  sepal width  petal length  petal width\n",
      "0             5.1          3.5           1.4          0.2\n",
      "1             4.9          3.0           1.4          0.2\n",
      "2             4.7          3.2           1.3          0.2\n",
      "3             4.6          3.1           1.5          0.2\n",
      "4             5.0          3.6           1.4          0.2\n",
      "..            ...          ...           ...          ...\n",
      "145           6.7          3.0           5.2          2.3\n",
      "146           6.3          2.5           5.0          1.9\n",
      "147           6.5          3.0           5.2          2.0\n",
      "148           6.2          3.4           5.4          2.3\n",
      "149           5.9          3.0           5.1          1.8\n",
      "\n",
      "[150 rows x 4 columns], 'targets':               class\n",
      "0       Iris-setosa\n",
      "1       Iris-setosa\n",
      "2       Iris-setosa\n",
      "3       Iris-setosa\n",
      "4       Iris-setosa\n",
      "..              ...\n",
      "145  Iris-virginica\n",
      "146  Iris-virginica\n",
      "147  Iris-virginica\n",
      "148  Iris-virginica\n",
      "149  Iris-virginica\n",
      "\n",
      "[150 rows x 1 columns], 'original':      sepal length  sepal width  petal length  petal width           class\n",
      "0             5.1          3.5           1.4          0.2     Iris-setosa\n",
      "1             4.9          3.0           1.4          0.2     Iris-setosa\n",
      "2             4.7          3.2           1.3          0.2     Iris-setosa\n",
      "3             4.6          3.1           1.5          0.2     Iris-setosa\n",
      "4             5.0          3.6           1.4          0.2     Iris-setosa\n",
      "..            ...          ...           ...          ...             ...\n",
      "145           6.7          3.0           5.2          2.3  Iris-virginica\n",
      "146           6.3          2.5           5.0          1.9  Iris-virginica\n",
      "147           6.5          3.0           5.2          2.0  Iris-virginica\n",
      "148           6.2          3.4           5.4          2.3  Iris-virginica\n",
      "149           5.9          3.0           5.1          1.8  Iris-virginica\n",
      "\n",
      "[150 rows x 5 columns], 'headers': Index(['sepal length', 'sepal width', 'petal length', 'petal width', 'class'], dtype='object')}, 'metadata': {'uci_id': 53, 'name': 'Iris', 'repository_url': 'https://archive.ics.uci.edu/dataset/53/iris', 'data_url': 'https://archive.ics.uci.edu/static/public/53/data.csv', 'abstract': 'A small classic dataset from Fisher, 1936. One of the earliest known datasets used for evaluating classification methods.\\n', 'area': 'Biology', 'tasks': ['Classification'], 'characteristics': ['Tabular'], 'num_instances': 150, 'num_features': 4, 'feature_types': ['Real'], 'demographics': [], 'target_col': ['class'], 'index_col': None, 'has_missing_values': 'no', 'missing_values_symbol': None, 'year_of_dataset_creation': 1936, 'last_updated': 'Tue Sep 12 2023', 'dataset_doi': '10.24432/C56C76', 'creators': ['R. A. Fisher'], 'intro_paper': {'ID': 191, 'type': 'NATIVE', 'title': 'The Iris data set: In search of the source of virginica', 'authors': 'A. Unwin, K. Kleinman', 'venue': 'Significance, 2021', 'year': 2021, 'journal': 'Significance, 2021', 'DOI': '1740-9713.01589', 'URL': 'https://www.semanticscholar.org/paper/4599862ea877863669a6a8e63a3c707a787d5d7e', 'sha': None, 'corpus': None, 'arxiv': None, 'mag': None, 'acl': None, 'pmid': None, 'pmcid': None}, 'additional_info': {'summary': 'This is one of the earliest datasets used in the literature on classification methods and widely used in statistics and machine learning.  The data set contains 3 classes of 50 instances each, where each class refers to a type of iris plant.  One class is linearly separable from the other 2; the latter are not linearly separable from each other.\\n\\nPredicted attribute: class of iris plant.\\n\\nThis is an exceedingly simple domain.\\n\\nThis data differs from the data presented in Fishers article (identified by Steve Chadwick,  spchadwick@espeedaz.net ).  The 35th sample should be: 4.9,3.1,1.5,0.2,\"Iris-setosa\" where the error is in the fourth feature. The 38th sample: 4.9,3.6,1.4,0.1,\"Iris-setosa\" where the errors are in the second and third features.  ', 'purpose': 'N/A', 'funded_by': None, 'instances_represent': 'Each instance is a plant', 'recommended_data_splits': None, 'sensitive_data': None, 'preprocessing_description': None, 'variable_info': None, 'citation': None}}, 'variables':            name     role         type demographic  \\\n",
      "0  sepal length  Feature   Continuous        None   \n",
      "1   sepal width  Feature   Continuous        None   \n",
      "2  petal length  Feature   Continuous        None   \n",
      "3   petal width  Feature   Continuous        None   \n",
      "4         class   Target  Categorical        None   \n",
      "\n",
      "                                         description units missing_values  \n",
      "0                                               None    cm             no  \n",
      "1                                               None    cm             no  \n",
      "2                                               None    cm             no  \n",
      "3                                               None    cm             no  \n",
      "4  class of iris plant: Iris Setosa, Iris Versico...  None             no  }\n"
     ]
    }
   ],
   "source": [
    "#(4) 利用uci資料庫，抓取iris的資料表\n",
    "from ucimlrepo import fetch_ucirepo , list_available_datasets\n",
    "#list_available_datasets() #用來確認資料集的id\n",
    "\n",
    "#Iris(id=53)\n",
    "Iris = fetch_ucirepo(id=53)\n",
    "\n",
    "print(Iris)"
   ]
  },
  {
   "cell_type": "code",
   "execution_count": null,
   "id": "a93a7016",
   "metadata": {},
   "outputs": [],
   "source": []
  }
 ],
 "metadata": {
  "kernelspec": {
   "display_name": "Python 3 (ipykernel)",
   "language": "python",
   "name": "python3"
  },
  "language_info": {
   "codemirror_mode": {
    "name": "ipython",
    "version": 3
   },
   "file_extension": ".py",
   "mimetype": "text/x-python",
   "name": "python",
   "nbconvert_exporter": "python",
   "pygments_lexer": "ipython3",
   "version": "3.11.4"
  }
 },
 "nbformat": 4,
 "nbformat_minor": 5
}
